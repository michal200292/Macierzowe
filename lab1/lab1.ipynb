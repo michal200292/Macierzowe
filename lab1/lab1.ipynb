{
 "cells": [
  {
   "cell_type": "code",
   "execution_count": 1,
   "metadata": {
    "collapsed": true,
    "ExecuteTime": {
     "end_time": "2023-10-22T15:02:01.589214500Z",
     "start_time": "2023-10-22T15:01:59.377583300Z"
    }
   },
   "outputs": [],
   "source": [
    "import numpy as np\n",
    "from Strassen import strassen\n",
    "from AI_mul import ai\n",
    "from Binet import binet\n",
    "import matplotlib.pyplot as plt\n",
    "import pandas as pd"
   ]
  },
  {
   "cell_type": "code",
   "execution_count": 2,
   "outputs": [],
   "source": [
    "def random_matrix(m, n):\n",
    "    return np.random.uniform(0.00000001, 1, (m, n))"
   ],
   "metadata": {
    "collapsed": false,
    "ExecuteTime": {
     "end_time": "2023-10-22T15:02:02.972564300Z",
     "start_time": "2023-10-22T15:02:02.929544800Z"
    }
   }
  },
  {
   "cell_type": "code",
   "execution_count": 3,
   "outputs": [],
   "source": [
    "from time import perf_counter\n",
    "\n",
    "def timeit(func):\n",
    "    def wrapper(*args, **kwargs):\n",
    "        t1 = perf_counter()\n",
    "        res = func(*args, **kwargs)\n",
    "        t2 = perf_counter()\n",
    "        return res, round(t2 - t1, 4)\n",
    "    return wrapper"
   ],
   "metadata": {
    "collapsed": false,
    "ExecuteTime": {
     "end_time": "2023-10-22T15:02:03.671883100Z",
     "start_time": "2023-10-22T15:02:03.646342100Z"
    }
   }
  },
  {
   "cell_type": "code",
   "execution_count": 4,
   "outputs": [],
   "source": [
    "time_strassen = timeit(strassen)\n",
    "time_binet = timeit(binet)\n",
    "time_ai = timeit(ai)"
   ],
   "metadata": {
    "collapsed": false,
    "ExecuteTime": {
     "end_time": "2023-10-22T15:02:04.395318100Z",
     "start_time": "2023-10-22T15:02:04.362289400Z"
    }
   }
  },
  {
   "cell_type": "code",
   "execution_count": null,
   "outputs": [],
   "source": [
    "measure_binet = []\n",
    "measure_strassen = []\n",
    "measure_ai = []"
   ],
   "metadata": {
    "collapsed": false
   }
  },
  {
   "cell_type": "code",
   "execution_count": 110,
   "outputs": [],
   "source": [
    "for i in range(9):\n",
    "    print(i)\n",
    "    k = pow(2, i)\n",
    "    mat1 = random_matrix(k, k)\n",
    "    mat2 = random_matrix(k, k)\n",
    "\n",
    "    bin_count, bin_time = time_binet(mat1, mat2)\n",
    "    measure_binet.append((bin_count[1:], bin_time))\n",
    "\n",
    "    str_count, str_time = time_strassen(mat1, mat2)\n",
    "    measure_strassen.append((str_count[1:], str_time))\n",
    "\n",
    "for a, b in [(4, 5), (16, 25), (64, 125), (256, 625)]:\n",
    "    mat1 = random_matrix(a, b)\n",
    "    mat2 = random_matrix(b, b)\n",
    "\n",
    "    ai_count, ai_time = time_ai(mat1, mat2)\n",
    "    measure_ai.append((ai_count[1:], ai_time))"
   ],
   "metadata": {
    "collapsed": false,
    "ExecuteTime": {
     "end_time": "2023-10-22T16:43:55.682325200Z",
     "start_time": "2023-10-22T16:37:28.455503100Z"
    }
   }
  },
  {
   "cell_type": "code",
   "execution_count": 112,
   "outputs": [
    {
     "name": "stdout",
     "output_type": "stream",
     "text": [
      "[((540, 76), 0.0018), ((52800, 5776), 0.0847), ((4272000, 438976), 5.0392), ((330456000, 33362176), 382.081)]\n",
      "[((0, 1), 0.0), ((18, 7), 0.0001), ((198, 49), 0.0007), ((1674, 343), 0.0062), ((12870, 2401), 0.0273), ((94698, 16807), 0.1874), ((681318, 117649), 0.9554), ((4842954, 823543), 6.2811), ((34195590, 5764801), 46.0034)]\n",
      "[((0, 1), 0.0), ((4, 8), 0.0001), ((48, 64), 0.0006), ((448, 512), 0.0061), ((3840, 4096), 0.0427), ((31744, 32768), 0.1881), ((258048, 262144), 1.9761), ((2080768, 2097152), 10.1974), ((16711680, 16777216), 80.7577)]\n"
     ]
    }
   ],
   "source": [
    "print(measure_ai)\n",
    "print(measure_strassen)\n",
    "print(measure_binet)"
   ],
   "metadata": {
    "collapsed": false,
    "ExecuteTime": {
     "end_time": "2023-10-22T16:45:18.605214800Z",
     "start_time": "2023-10-22T16:45:18.590519900Z"
    }
   }
  },
  {
   "cell_type": "code",
   "execution_count": 119,
   "outputs": [],
   "source": [
    "sizes1 = np.array([pow(2, i) for i in range(9)])\n",
    "sizes2 = np.array([45, 1025, 23625, 550625])"
   ],
   "metadata": {
    "collapsed": false,
    "ExecuteTime": {
     "end_time": "2023-10-22T16:53:39.244727300Z",
     "start_time": "2023-10-22T16:53:39.226830100Z"
    }
   }
  },
  {
   "cell_type": "code",
   "execution_count": 120,
   "outputs": [],
   "source": [
    "from scipy.optimize import curve_fit\n",
    "\n",
    "def func(x, a, b):\n",
    "    return a*np.power(x, b)"
   ],
   "metadata": {
    "collapsed": false,
    "ExecuteTime": {
     "end_time": "2023-10-22T16:53:39.711526700Z",
     "start_time": "2023-10-22T16:53:39.693407800Z"
    }
   }
  },
  {
   "cell_type": "code",
   "execution_count": 123,
   "outputs": [],
   "source": [
    "def print_all_measurements(sizes, measures):\n",
    "    add_count, mul_count, time = [], [], []\n",
    "    for (a, b), c in measures:\n",
    "        add_count.append(a)\n",
    "        mul_count.append(b)\n",
    "        time.append(c)\n",
    "\n",
    "    data = {\"Łączna liczba elementów macierzy\": sizes, \"Ilość dodawań\": add_count, \"Ilość mnożeń\" : mul_count, \"Czas[s]\": time}\n",
    "    df = pd.DataFrame(data)\n",
    "    df = df.set_index(\"Łączna liczba elementów macierzy\")\n",
    "    print(df.to_latex(bold_rows=True))"
   ],
   "metadata": {
    "collapsed": false,
    "ExecuteTime": {
     "end_time": "2023-10-22T16:53:49.641679100Z",
     "start_time": "2023-10-22T16:53:49.621228800Z"
    }
   }
  },
  {
   "cell_type": "code",
   "execution_count": 124,
   "outputs": [
    {
     "name": "stdout",
     "output_type": "stream",
     "text": [
      "\\begin{tabular}{lrrr}\n",
      "\\toprule\n",
      " & Ilość dodawań & Ilość mnożeń & Czas[s] \\\\\n",
      "Łączna liczba elementów macierzy &  &  &  \\\\\n",
      "\\midrule\n",
      "\\textbf{45} & 540 & 76 & 0.001800 \\\\\n",
      "\\textbf{1025} & 52800 & 5776 & 0.084700 \\\\\n",
      "\\textbf{23625} & 4272000 & 438976 & 5.039200 \\\\\n",
      "\\textbf{550625} & 330456000 & 33362176 & 382.081000 \\\\\n",
      "\\bottomrule\n",
      "\\end{tabular}\n",
      "\n"
     ]
    }
   ],
   "source": [
    "print_all_measurements(sizes2, measure_ai)"
   ],
   "metadata": {
    "collapsed": false,
    "ExecuteTime": {
     "end_time": "2023-10-22T16:53:49.981936600Z",
     "start_time": "2023-10-22T16:53:49.908011100Z"
    }
   }
  },
  {
   "cell_type": "code",
   "execution_count": 136,
   "outputs": [],
   "source": [
    "def plot_values(sizes, measures):\n",
    "    add_count, mul_count, time = [], [], []\n",
    "    for (a, b), c in measures:\n",
    "        add_count.append(a)\n",
    "        mul_count.append(b)\n",
    "        time.append(c)\n",
    "\n",
    "    # plt.plot(sizes, mul_count, linestyle=\"--\", marker=\"o\")\n",
    "\n",
    "    best_curve, curve_variance = curve_fit(func, sizes, time)\n",
    "    print(best_curve)\n",
    "    plt.plot(sizes, time, linestyle=\"None\", marker=\"o\")\n",
    "    mesh = np.linspace(0, sizes[-1])\n",
    "    mesh_val = func(mesh, best_curve[0], best_curve[1])\n",
    "    plt.plot(mesh, mesh_val, color=\"red\")\n",
    "    plt.ylabel(\"Czas[s]\")\n",
    "    plt.xlabel(\"Ilość elementów\")\n",
    "    plt.savefig(\"AI-fit.png\")"
   ],
   "metadata": {
    "collapsed": false,
    "ExecuteTime": {
     "end_time": "2023-10-22T16:59:55.865884300Z",
     "start_time": "2023-10-22T16:59:55.847756200Z"
    }
   }
  },
  {
   "cell_type": "code",
   "execution_count": 137,
   "outputs": [
    {
     "name": "stdout",
     "output_type": "stream",
     "text": [
      "[4.90603648e-06 1.37460768e+00]\n"
     ]
    },
    {
     "data": {
      "text/plain": "<Figure size 640x480 with 1 Axes>",
      "image/png": "[encoded data removed]"
     },
     "metadata": {},
     "output_type": "display_data"
    }
   ],
   "source": [
    "plot_values(sizes2, measure_ai)"
   ],
   "metadata": {
    "collapsed": false,
    "ExecuteTime": {
     "end_time": "2023-10-22T16:59:57.129267600Z",
     "start_time": "2023-10-22T16:59:56.598068600Z"
    }
   }
  },
  {
   "cell_type": "code",
   "execution_count": null,
   "outputs": [],
   "source": [],
   "metadata": {
    "collapsed": false
   }
  }
 ],
 "metadata": {
  "kernelspec": {
   "display_name": "Python 3",
   "language": "python",
   "name": "python3"
  },
  "language_info": {
   "codemirror_mode": {
    "name": "ipython",
    "version": 2
   },
   "file_extension": ".py",
   "mimetype": "text/x-python",
   "name": "python",
   "nbconvert_exporter": "python",
   "pygments_lexer": "ipython2",
   "version": "2.7.6"
  }
 },
 "nbformat": 4,
 "nbformat_minor": 0
}
