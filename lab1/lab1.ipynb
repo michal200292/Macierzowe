{
 "cells": [
  {
   "cell_type": "code",
   "execution_count": 1,
   "metadata": {
    "collapsed": true,
    "ExecuteTime": {
     "end_time": "2023-10-21T21:46:04.630030300Z",
     "start_time": "2023-10-21T21:46:04.414793400Z"
    }
   },
   "outputs": [],
   "source": [
    "import numpy as np\n",
    "from Strassen import strassen\n",
    "from AI_mul import ai\n",
    "from Binet import binet"
   ]
  },
  {
   "cell_type": "code",
   "execution_count": 2,
   "outputs": [],
   "source": [
    "def random_matrix(n):\n",
    "    return np.random.uniform(0.00000001, 1, (n, n))"
   ],
   "metadata": {
    "collapsed": false,
    "ExecuteTime": {
     "end_time": "2023-10-21T21:46:05.349420700Z",
     "start_time": "2023-10-21T21:46:05.334911100Z"
    }
   }
  },
  {
   "cell_type": "code",
   "execution_count": 3,
   "outputs": [],
   "source": [
    "mat = random_matrix(4)"
   ],
   "metadata": {
    "collapsed": false,
    "ExecuteTime": {
     "end_time": "2023-10-21T21:46:06.364439500Z",
     "start_time": "2023-10-21T21:46:06.343051100Z"
    }
   }
  },
  {
   "cell_type": "code",
   "execution_count": 4,
   "outputs": [
    {
     "name": "stdout",
     "output_type": "stream",
     "text": [
      "[[0.92234028 0.43327447 0.54836177 0.3542006 ]\n",
      " [0.67647587 0.02454961 0.42955905 0.89790927]\n",
      " [0.26025424 0.21811821 0.97008481 0.17207262]\n",
      " [0.00763498 0.6876607  0.89213164 0.2736142 ]]\n"
     ]
    }
   ],
   "source": [
    "print(mat)"
   ],
   "metadata": {
    "collapsed": false,
    "ExecuteTime": {
     "end_time": "2023-10-21T21:46:07.150791Z",
     "start_time": "2023-10-21T21:46:07.120494Z"
    }
   }
  },
  {
   "cell_type": "code",
   "execution_count": 5,
   "outputs": [
    {
     "name": "stdout",
     "output_type": "stream",
     "text": [
      "[[1.2892291  0.77344074 1.5398441  0.907007  ]\n",
      " [0.75919825 1.00485398 1.59926099 0.58124756]\n",
      " [0.64137714 0.44803698 1.33098409 0.50203912]\n",
      " [0.70649801 0.40293374 1.40912085 0.84853739]]\n"
     ]
    }
   ],
   "source": [
    "print(binet(mat, mat))"
   ],
   "metadata": {
    "collapsed": false,
    "ExecuteTime": {
     "end_time": "2023-10-21T21:46:07.999890800Z",
     "start_time": "2023-10-21T21:46:07.971424900Z"
    }
   }
  },
  {
   "cell_type": "code",
   "execution_count": 6,
   "outputs": [
    {
     "name": "stdout",
     "output_type": "stream",
     "text": [
      "[[1.2892291  0.77344074 1.5398441  0.907007  ]\n",
      " [0.75919825 1.00485398 1.59926099 0.58124756]\n",
      " [0.64137714 0.44803698 1.33098409 0.50203912]\n",
      " [0.70649801 0.40293374 1.40912085 0.84853739]]\n"
     ]
    }
   ],
   "source": [
    "print(mat @ mat)"
   ],
   "metadata": {
    "collapsed": false,
    "ExecuteTime": {
     "end_time": "2023-10-21T21:46:08.567474100Z",
     "start_time": "2023-10-21T21:46:08.550149600Z"
    }
   }
  },
  {
   "cell_type": "code",
   "execution_count": 7,
   "outputs": [
    {
     "name": "stdout",
     "output_type": "stream",
     "text": [
      "[[1.2892291  0.77344074 1.5398441  0.907007  ]\n",
      " [0.75919825 1.00485398 1.59926099 0.58124756]\n",
      " [0.64137714 0.44803698 1.33098409 0.50203912]\n",
      " [0.70649801 0.40293374 1.40912085 0.84853739]]\n"
     ]
    }
   ],
   "source": [
    "print(strassen(mat, mat))"
   ],
   "metadata": {
    "collapsed": false,
    "ExecuteTime": {
     "end_time": "2023-10-21T21:46:09.108544800Z",
     "start_time": "2023-10-21T21:46:09.080685900Z"
    }
   }
  },
  {
   "cell_type": "code",
   "execution_count": null,
   "outputs": [],
   "source": [],
   "metadata": {
    "collapsed": false
   }
  }
 ],
 "metadata": {
  "kernelspec": {
   "display_name": "Python 3",
   "language": "python",
   "name": "python3"
  },
  "language_info": {
   "codemirror_mode": {
    "name": "ipython",
    "version": 2
   },
   "file_extension": ".py",
   "mimetype": "text/x-python",
   "name": "python",
   "nbconvert_exporter": "python",
   "pygments_lexer": "ipython2",
   "version": "2.7.6"
  }
 },
 "nbformat": 4,
 "nbformat_minor": 0
}
