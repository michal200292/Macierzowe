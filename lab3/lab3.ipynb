{
 "cells": [
  {
   "cell_type": "code",
   "execution_count": 259,
   "metadata": {
    "collapsed": true
   },
   "outputs": [],
   "source": [
    "from scipy.sparse.linalg import svds\n",
    "from scipy.linalg import svd\n",
    "import matplotlib.pyplot as plt\n",
    "import numpy as np\n",
    "from PIL import Image"
   ]
  },
  {
   "cell_type": "code",
   "execution_count": 260,
   "outputs": [],
   "source": [
    "def random_matrix(n, p=0):\n",
    "    r_matrix = np.random.uniform(0, 1, (n, n))\n",
    "    for ind in np.random.permutation(range(n*n))[:int(n*n*p)]:\n",
    "        r_matrix[ind // n, ind % n] = 0\n",
    "    return r_matrix"
   ],
   "metadata": {
    "collapsed": false
   }
  },
  {
   "cell_type": "code",
   "execution_count": 261,
   "outputs": [],
   "source": [
    "def truncated_svd(A, k):\n",
    "    if not 0 < k < A.shape[0] + 1:\n",
    "        raise ValueError(\"k should between 0 and A.shape[0] + 1\")\n",
    "    if k == A.shape[0]:\n",
    "        U, s, V = svd(A)\n",
    "    else:\n",
    "        U, s, V = svds(A, k)\n",
    "        U, s, V = U[::, ::-1], s[::-1], V[::-1]\n",
    "    return U, s, V"
   ],
   "metadata": {
    "collapsed": false
   }
  },
  {
   "cell_type": "code",
   "execution_count": 262,
   "outputs": [],
   "source": [
    "def calculate_singular_values(matrix):\n",
    "    return svd(matrix)[1]\n",
    "\n",
    "def plot_singular_values(values):\n",
    "    plt.plot(values)\n",
    "\n",
    "def power_of_two(x):\n",
    "    while x % 2:\n",
    "        x //= 2\n",
    "    return x != 1"
   ],
   "metadata": {
    "collapsed": false
   }
  },
  {
   "cell_type": "code",
   "execution_count": 263,
   "outputs": [],
   "source": [
    "class Node:\n",
    "    def __init__(self, lp=None, rp=None, ld=None, rd=None):\n",
    "        self.lp = lp\n",
    "        self.rp = rp\n",
    "        self.ld = ld\n",
    "        self.rd = rd\n",
    "\n",
    "    def eval(self, length):\n",
    "        matrix = np.zeros((length, length))\n",
    "        length //= 2\n",
    "        matrix[:length, :length] = self.lp.eval(length)\n",
    "        matrix[:length, length:] = self.rp.eval(length)\n",
    "        matrix[length:, :length] = self.ld.eval(length)\n",
    "        matrix[length:, length:] = self.rd.eval(length)\n",
    "        return matrix\n",
    "\n",
    "\n",
    "class Leaf:\n",
    "    def __init__(self, U=None, V=None, s=None, zeros=False):\n",
    "        self.U = U\n",
    "        self.s = s\n",
    "        self.V = V\n",
    "        self.zeros = zeros\n",
    "\n",
    "    def eval(self, length):\n",
    "        if self.zeros:\n",
    "            return 0\n",
    "        return self.U @ np.diag(self.s) @ self.V"
   ],
   "metadata": {
    "collapsed": false
   }
  },
  {
   "cell_type": "code",
   "execution_count": 264,
   "outputs": [],
   "source": [
    "eps = 1e-12"
   ],
   "metadata": {
    "collapsed": false
   }
  },
  {
   "cell_type": "code",
   "execution_count": 265,
   "outputs": [],
   "source": [
    "def compress(matrix, min_value, max_rank, left, up, length):\n",
    "    if length == 1:\n",
    "        return Leaf(U=matrix, s=np.array([1]), V=np.array([1]))\n",
    "    else:\n",
    "        if length <= max_rank + 1:\n",
    "            max_rank = length - 1\n",
    "        U, s, V  = truncated_svd(matrix, k=max_rank + 1)\n",
    "        if np.abs(s[-1]) < min_value + eps:\n",
    "            s_values = s[np.abs(s) >= min_value + eps]\n",
    "            k = s_values.shape[0]\n",
    "            if k == 0:\n",
    "                return Leaf(zeros=True)\n",
    "            return Leaf(U=U[::, :k], s=s_values, V=V[:k])\n",
    "        length //= 2\n",
    "        node = Node(\n",
    "            lp=compress(matrix[:length, :length], min_value, max_rank, left, up, length),\n",
    "            rp=compress(matrix[:length, length:], min_value, max_rank, left + length, up, length),\n",
    "            ld=compress(matrix[length:, :length], min_value, max_rank, left, up + length, length),\n",
    "            rd=compress(matrix[length:, length:], min_value, max_rank, left + length, up+length, length)\n",
    "        )\n",
    "        return node\n",
    "\n",
    "\n",
    "def compress_matrix(matrix, min_value, max_rank):\n",
    "    if max_rank > matrix.shape[0] - 1:\n",
    "        raise ValueError(\"Maximum rank should be strictly less than matrix dimension\")\n",
    "    if matrix.shape[0] != matrix.shape[1]:\n",
    "        raise ValueError(\"Matrix should be square\")\n",
    "    if not power_of_two(matrix.shape[0]):\n",
    "        raise ValueError(\"Matrix dimension should be power of two\")\n",
    "    n, _ = matrix.shape\n",
    "    return compress(matrix, abs(min_value), max_rank, 0, 0, matrix.shape[0])\n"
   ],
   "metadata": {
    "collapsed": false
   }
  },
  {
   "cell_type": "code",
   "execution_count": 266,
   "outputs": [
    {
     "name": "stdout",
     "output_type": "stream",
     "text": [
      "[[0.42904098 0.         0.55331774 ... 0.41800577 0.9807372  0.        ]\n",
      " [0.15114335 0.73254286 0.         ... 0.         0.         0.        ]\n",
      " [0.         0.         0.         ... 0.         0.62041932 0.        ]\n",
      " ...\n",
      " [0.32542939 0.00957363 0.41554258 ... 0.9104641  0.28185133 0.        ]\n",
      " [0.87371543 0.         0.         ... 0.86924712 0.         0.78143102]\n",
      " [0.         0.         0.99032384 ... 0.96723787 0.28824327 0.09878646]]\n"
     ]
    }
   ],
   "source": [
    "mat = random_matrix(64, 0.5)\n",
    "v = calculate_singular_values(mat)\n",
    "# plot_singular_values(v)\n",
    "print(mat)"
   ],
   "metadata": {
    "collapsed": false
   }
  },
  {
   "cell_type": "code",
   "execution_count": 267,
   "outputs": [],
   "source": [
    "image_mat = np.full((64, 64), 255)\n",
    "tree_root = compress_matrix(mat, v[-1], 1)\n",
    "image = Image.fromarray(image_mat)\n",
    "image.show()"
   ],
   "metadata": {
    "collapsed": false
   }
  },
  {
   "cell_type": "code",
   "execution_count": 268,
   "outputs": [
    {
     "name": "stdout",
     "output_type": "stream",
     "text": [
      "[[0.42904098 0.         0.55331774 ... 0.41762454 0.9807372  0.        ]\n",
      " [0.15114335 0.73254286 0.         ... 0.01261793 0.         0.        ]\n",
      " [0.         0.         0.         ... 0.         0.62041932 0.        ]\n",
      " ...\n",
      " [0.32542939 0.00957363 0.41554258 ... 0.9104641  0.28185133 0.        ]\n",
      " [0.87371543 0.         0.         ... 0.86924712 0.         0.78143102]\n",
      " [0.         0.         0.99032384 ... 0.96723787 0.28824327 0.09878646]]\n"
     ]
    }
   ],
   "source": [
    "mat2 = tree_root.eval(64)\n",
    "print(mat2)"
   ],
   "metadata": {
    "collapsed": false
   }
  },
  {
   "cell_type": "code",
   "execution_count": 269,
   "outputs": [
    {
     "name": "stdout",
     "output_type": "stream",
     "text": [
      "(64, 10)\n",
      "(10,)\n",
      "(10, 64)\n"
     ]
    }
   ],
   "source": [
    "a, b, c = svds(mat, k=10)\n",
    "print(a.shape)\n",
    "print(b.shape)\n",
    "print(c.shape)"
   ],
   "metadata": {
    "collapsed": false
   }
  },
  {
   "cell_type": "code",
   "execution_count": 270,
   "outputs": [
    {
     "name": "stdout",
     "output_type": "stream",
     "text": [
      "[[ 0.35249905  0.04384438  0.43138162 ...  0.43186511  0.61336161\n",
      "   0.23833659]\n",
      " [-0.09797805  0.63287735  0.410886   ...  0.00599594 -0.11831209\n",
      "   0.27894651]\n",
      " [ 0.19498072  0.0173474   0.21684499 ...  0.26927657  0.47923087\n",
      "   0.26371855]\n",
      " ...\n",
      " [ 0.41716158  0.18053695  0.43751597 ...  0.72698849  0.67179983\n",
      "   0.28881499]\n",
      " [ 0.18054536  0.2051022   0.04409298 ...  0.72995069  0.23291675\n",
      "   0.33550911]\n",
      " [-0.02033188 -0.10187654  0.66299714 ...  0.74386544  0.55609905\n",
      "  -0.00937125]]\n"
     ]
    }
   ],
   "source": [
    "print(a @ np.diag(b) @ c)"
   ],
   "metadata": {
    "collapsed": false
   }
  },
  {
   "cell_type": "code",
   "execution_count": null,
   "outputs": [],
   "source": [],
   "metadata": {
    "collapsed": false
   }
  }
 ],
 "metadata": {
  "kernelspec": {
   "display_name": "Python 3",
   "language": "python",
   "name": "python3"
  },
  "language_info": {
   "codemirror_mode": {
    "name": "ipython",
    "version": 2
   },
   "file_extension": ".py",
   "mimetype": "text/x-python",
   "name": "python",
   "nbconvert_exporter": "python",
   "pygments_lexer": "ipython2",
   "version": "2.7.6"
  }
 },
 "nbformat": 4,
 "nbformat_minor": 0
}
