{
 "cells": [
  {
   "cell_type": "code",
   "execution_count": null,
   "metadata": {
    "ExecuteTime": {
     "end_time": "2023-12-01T22:05:28.203230300Z",
     "start_time": "2023-12-01T22:05:28.176994100Z"
    }
   },
   "outputs": [],
   "source": [
    "import matplotlib.pyplot as plt\n",
    "import numpy as np\n",
    "from PIL import Image\n",
    "from svd_compression import calculate_singular_values, compress_matrix"
   ]
  },
  {
   "cell_type": "code",
   "execution_count": null,
   "metadata": {
    "ExecuteTime": {
     "end_time": "2023-12-01T22:05:28.799968800Z",
     "start_time": "2023-12-01T22:05:28.775075200Z"
    }
   },
   "outputs": [],
   "source": [
    "def random_matrix(n, p=0):\n",
    "    r_matrix = np.random.uniform(0, 1, (n, n))\n",
    "    for ind in np.random.permutation(range(n*n))[:int(n*n*p)]:\n",
    "        r_matrix[ind // n, ind % n] = 0\n",
    "    return r_matrix"
   ]
  },
  {
   "cell_type": "code",
   "execution_count": null,
   "metadata": {
    "ExecuteTime": {
     "end_time": "2023-12-01T22:05:29.317615500Z",
     "start_time": "2023-12-01T22:05:29.287174400Z"
    }
   },
   "outputs": [],
   "source": [
    "def plot_singular_values(values):\n",
    "    plt.title('Singular values')\n",
    "    plt.plot(values)"
   ]
  },
  {
   "cell_type": "code",
   "execution_count": null,
   "metadata": {
    "ExecuteTime": {
     "end_time": "2023-12-01T22:05:29.777063600Z",
     "start_time": "2023-12-01T22:05:29.766626400Z"
    }
   },
   "outputs": [],
   "source": [
    "eps = 1e-12"
   ]
  },
  {
   "cell_type": "code",
   "execution_count": null,
   "metadata": {
    "ExecuteTime": {
     "end_time": "2023-12-01T22:05:30.965193200Z",
     "start_time": "2023-12-01T22:05:30.329434Z"
    }
   },
   "outputs": [],
   "source": [
    "mat = random_matrix(256, 0.99)\n",
    "v = calculate_singular_values(mat)\n",
    "plot_singular_values(v)\n",
    "print(mat)"
   ]
  },
  {
   "cell_type": "code",
   "execution_count": null,
   "metadata": {
    "ExecuteTime": {
     "end_time": "2023-12-01T22:05:37.443248600Z",
     "start_time": "2023-12-01T22:05:37.427005900Z"
    }
   },
   "outputs": [],
   "source": [
    "tree = compress_matrix(mat, v[128], 4)\n",
    "mat2 = tree.eval()\n",
    "print(np.max(mat2 - mat))"
   ]
  },
  {
   "cell_type": "code",
   "execution_count": null,
   "metadata": {
    "ExecuteTime": {
     "end_time": "2023-12-01T22:07:19.271028300Z",
     "start_time": "2023-12-01T22:07:18.948414100Z"
    }
   },
   "outputs": [],
   "source": [
    "plt.imshow(Image.fromarray(tree.draw()))"
   ]
  },
  {
   "cell_type": "markdown",
   "metadata": {},
   "source": [
    "# Testy"
   ]
  },
  {
   "cell_type": "code",
   "execution_count": null,
   "metadata": {},
   "outputs": [],
   "source": [
    "import time"
   ]
  },
  {
   "cell_type": "code",
   "execution_count": null,
   "metadata": {},
   "outputs": [],
   "source": [
    "size = 2 ** 10\n",
    "zeros_percentage = [0.99, 0.98, 0.95, 0.9, 0.8]"
   ]
  },
  {
   "cell_type": "code",
   "execution_count": null,
   "metadata": {},
   "outputs": [],
   "source": [
    "results = []"
   ]
  },
  {
   "cell_type": "code",
   "execution_count": null,
   "metadata": {
    "scrolled": false
   },
   "outputs": [],
   "source": [
    "singular_indices = [1, 512, 1024]\n",
    "for zeros_p in zeros_percentage:\n",
    "    print('Zeros percentage:', zeros_p * 100, '%')\n",
    "    matrix = random_matrix(size, zeros_p)\n",
    "    \n",
    "    singular_values = calculate_singular_values(matrix)\n",
    "    \n",
    "    plot_singular_values(singular_values)\n",
    "    plt.savefig(f\"saved_figures/singular_values_sparse{zeros_p}.png\")\n",
    "    plt.show()\n",
    "    \n",
    "    b_values = [1, 4]\n",
    "    delta_values = [singular_values[1], singular_values[-1], singular_values[len(singular_values) // 2]]\n",
    "    \n",
    "    for b in b_values:\n",
    "        for i, delta in enumerate(delta_values):\n",
    "            time_start = time.time()\n",
    "            root = compress_matrix(matrix, delta, b)\n",
    "            time_stop = time.time()\n",
    "            \n",
    "            image = root.draw()\n",
    "            plt.imshow(image)\n",
    "            plt.title(f'H-matrix for b:{b}, sigma:{singular_indices[i]}')\n",
    "            # plt.gray()\n",
    "            plt.axis('off')\n",
    "            plt.savefig(f\"saved_figures/rank_{b}_delta_{i}_sparse_{zeros_p}.png\")\n",
    "            plt.show()\n",
    "            \n",
    "            decompressed_matrix = root.eval()\n",
    "            norm = np.linalg.norm(matrix - decompressed_matrix) ** 2\n",
    "            \n",
    "            results.append((zeros_p, b, delta, time_stop - time_start, norm))"
   ]
  },
  {
   "cell_type": "code",
   "execution_count": null,
   "metadata": {},
   "outputs": [],
   "source": [
    "import pandas as pd\n",
    "\n",
    "dataframe = pd.DataFrame(results, columns=['Zeros number', 'Max rank', 'Delta', 'Compress time', 'Norm of difference'])\n",
    "\n",
    "print(dataframe)"
   ]
  },
  {
   "cell_type": "code",
   "execution_count": null,
   "metadata": {},
   "outputs": [],
   "source": [
    "def print_matrices(sparse_level):\n",
    "    fig, ax = plt.subplots(3, 2, figsize=(11, 15))\n",
    "    fig.tight_layout()\n",
    "    for d in [0, 1, 2]:\n",
    "        for ind, rank in enumerate([1, 4]):\n",
    "            im = Image.open(f\"saved_figures/rank_{rank}_delta_{d}_sparse_{sparse_level}.png\")\n",
    "            ax[d, ind].imshow(im)\n",
    "            ax[d, ind].axis('off')\n",
    "\n",
    "    plt.subplots_adjust(left=0.0,\n",
    "                    bottom=0.0,\n",
    "                    right=1,\n",
    "                    top=1,\n",
    "                    wspace=-0.25,\n",
    "                    hspace=-0.25)\n",
    "    plt.savefig(f\"saved_figures/matrices_{sparse_level}.png\")\n",
    "    plt.show()\n",
    "\n"
   ]
  },
  {
   "cell_type": "code",
   "execution_count": null,
   "outputs": [],
   "source": [
    "print_matrices(0.8)\n",
    "print_matrices(0.9)\n",
    "print_matrices(0.95)\n",
    "print_matrices(0.98)\n",
    "print_matrices(0.99)"
   ],
   "metadata": {
    "collapsed": false
   }
  },
  {
   "cell_type": "code",
   "execution_count": null,
   "outputs": [],
   "source": [],
   "metadata": {
    "collapsed": false
   }
  }
 ],
 "metadata": {
  "kernelspec": {
   "display_name": "Python 3 (ipykernel)",
   "language": "python",
   "name": "python3"
  },
  "language_info": {
   "codemirror_mode": {
    "name": "ipython",
    "version": 3
   },
   "file_extension": ".py",
   "mimetype": "text/x-python",
   "name": "python",
   "nbconvert_exporter": "python",
   "pygments_lexer": "ipython3",
   "version": "3.9.12"
  }
 },
 "nbformat": 4,
 "nbformat_minor": 1
}
