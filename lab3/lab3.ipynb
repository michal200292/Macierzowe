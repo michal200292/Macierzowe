{
 "cells": [
  {
   "cell_type": "code",
   "execution_count": 1,
   "metadata": {},
   "outputs": [],
   "source": [
    "from scipy.sparse.linalg import svds\n",
    "from scipy.linalg import svd\n",
    "import matplotlib.pyplot as plt\n",
    "import numpy as np\n",
    "from PIL import Image"
   ]
  },
  {
   "cell_type": "code",
   "execution_count": 2,
   "metadata": {},
   "outputs": [],
   "source": [
    "def random_matrix(n, p=0):\n",
    "    r_matrix = np.random.uniform(0, 1, (n, n))\n",
    "    for ind in np.random.permutation(range(n*n))[:int(n*n*p)]:\n",
    "        r_matrix[ind // n, ind % n] = 0\n",
    "    return r_matrix"
   ]
  },
  {
   "cell_type": "code",
   "execution_count": 3,
   "metadata": {},
   "outputs": [],
   "source": [
    "def truncated_svd(A, k):\n",
    "    if not 0 < k < A.shape[0] + 1:\n",
    "        raise ValueError(\"k should between 0 and A.shape[0] + 1\")\n",
    "    if k == A.shape[0]:\n",
    "        U, s, V = svd(A)\n",
    "    else:\n",
    "        U, s, V = svds(A, k)\n",
    "        U, s, V = U[::, ::-1], s[::-1], V[::-1]\n",
    "    return U, s, V"
   ]
  },
  {
   "cell_type": "code",
   "execution_count": 4,
   "metadata": {},
   "outputs": [],
   "source": [
    "def calculate_singular_values(matrix):\n",
    "    return svd(matrix)[1]\n",
    "\n",
    "def plot_singular_values(values):\n",
    "    plt.plot(values)\n",
    "\n",
    "def power_of_two(x):\n",
    "    while x % 2:\n",
    "        x //= 2\n",
    "    return x != 1"
   ]
  },
  {
   "cell_type": "code",
   "execution_count": 5,
   "metadata": {},
   "outputs": [],
   "source": [
    "class Node:\n",
    "    def __init__(self, lp=None, rp=None, ld=None, rd=None):\n",
    "        self.lp = lp\n",
    "        self.rp = rp\n",
    "        self.ld = ld\n",
    "        self.rd = rd\n",
    "\n",
    "    def eval(self, length):\n",
    "        matrix = np.zeros((length, length))\n",
    "        length //= 2\n",
    "        matrix[:length, :length] = self.lp.eval(length)\n",
    "        matrix[:length, length:] = self.rp.eval(length)\n",
    "        matrix[length:, :length] = self.ld.eval(length)\n",
    "        matrix[length:, length:] = self.rd.eval(length)\n",
    "        return matrix\n",
    "\n",
    "\n",
    "class Leaf:\n",
    "    def __init__(self, U=None, V=None, s=None, zeros=False):\n",
    "        self.U = U\n",
    "        self.s = s\n",
    "        self.V = V\n",
    "        self.zeros = zeros\n",
    "\n",
    "    def eval(self, length):\n",
    "        if self.zeros:\n",
    "            return 0\n",
    "        return self.U @ np.diag(self.s) @ self.V"
   ]
  },
  {
   "cell_type": "code",
   "execution_count": 6,
   "metadata": {},
   "outputs": [],
   "source": [
    "eps = 1e-12"
   ]
  },
  {
   "cell_type": "code",
   "execution_count": 7,
   "metadata": {},
   "outputs": [],
   "source": [
    "def compress(matrix, min_value, max_rank, left, up, length):\n",
    "    if length == 1:\n",
    "        return Leaf(U=matrix, s=np.array([1]), V=np.array([1]))\n",
    "    else:\n",
    "        if length <= max_rank + 1:\n",
    "            max_rank = length - 1\n",
    "        U, s, V  = truncated_svd(matrix, k=max_rank + 1)\n",
    "        if np.abs(s[-1]) < min_value + eps:\n",
    "            s_values = s[np.abs(s) >= min_value + eps]\n",
    "            k = s_values.shape[0]\n",
    "            if k == 0:\n",
    "                return Leaf(zeros=True)\n",
    "            return Leaf(U=U[::, :k], s=s_values, V=V[:k])\n",
    "        length //= 2\n",
    "        node = Node(\n",
    "            lp=compress(matrix[:length, :length], min_value, max_rank, left, up, length),\n",
    "            rp=compress(matrix[:length, length:], min_value, max_rank, left + length, up, length),\n",
    "            ld=compress(matrix[length:, :length], min_value, max_rank, left, up + length, length),\n",
    "            rd=compress(matrix[length:, length:], min_value, max_rank, left + length, up+length, length)\n",
    "        )\n",
    "        return node\n",
    "\n",
    "\n",
    "def compress_matrix(matrix, min_value, max_rank):\n",
    "    if max_rank > matrix.shape[0] - 1:\n",
    "        raise ValueError(\"Maximum rank should be strictly less than matrix dimension\")\n",
    "    if matrix.shape[0] != matrix.shape[1]:\n",
    "        raise ValueError(\"Matrix should be square\")\n",
    "    if not power_of_two(matrix.shape[0]):\n",
    "        raise ValueError(\"Matrix dimension should be power of two\")\n",
    "    n, _ = matrix.shape\n",
    "    return compress(matrix, abs(min_value), max_rank, 0, 0, matrix.shape[0])\n"
   ]
  },
  {
   "cell_type": "code",
   "execution_count": 8,
   "metadata": {},
   "outputs": [
    {
     "name": "stdout",
     "output_type": "stream",
     "text": [
      "[[0.         0.57930113 0.86888175 ... 0.         0.         0.        ]\n",
      " [0.         0.         0.20011056 ... 0.         0.55135368 0.        ]\n",
      " [0.         0.         0.         ... 0.1302988  0.14377107 0.84099267]\n",
      " ...\n",
      " [0.         0.79843166 0.53276778 ... 0.08124003 0.         0.12531655]\n",
      " [0.         0.35156603 0.56730555 ... 0.83410284 0.45003181 0.16368447]\n",
      " [0.         0.4825772  0.24200647 ... 0.         0.         0.40473685]]\n"
     ]
    }
   ],
   "source": [
    "mat = random_matrix(64, 0.5)\n",
    "v = calculate_singular_values(mat)\n",
    "# plot_singular_values(v)\n",
    "print(mat)"
   ]
  },
  {
   "cell_type": "code",
   "execution_count": 9,
   "metadata": {},
   "outputs": [],
   "source": [
    "image_mat = np.full((64, 64), 255)\n",
    "tree_root = compress_matrix(mat, v[-1], 1)\n",
    "image = Image.fromarray(image_mat)\n",
    "image.show()"
   ]
  },
  {
   "cell_type": "code",
   "execution_count": 10,
   "metadata": {},
   "outputs": [
    {
     "name": "stdout",
     "output_type": "stream",
     "text": [
      "[[ 0.00000000e+00  5.79301131e-01  8.68881752e-01 ...  0.00000000e+00\n",
      "   0.00000000e+00  0.00000000e+00]\n",
      " [ 0.00000000e+00  0.00000000e+00  2.00110561e-01 ...  0.00000000e+00\n",
      "   5.51353676e-01  0.00000000e+00]\n",
      " [-1.01614770e-16 -8.48122568e-17  0.00000000e+00 ...  1.30298802e-01\n",
      "   1.43771071e-01  8.40992667e-01]\n",
      " ...\n",
      " [ 0.00000000e+00  7.98431660e-01  5.32767775e-01 ...  8.12400317e-02\n",
      "   0.00000000e+00  1.25316547e-01]\n",
      " [ 0.00000000e+00  3.51566032e-01  5.67305551e-01 ...  8.34102838e-01\n",
      "   4.50031812e-01  1.63684469e-01]\n",
      " [ 0.00000000e+00  4.82577200e-01  2.42006468e-01 ...  0.00000000e+00\n",
      "   0.00000000e+00  4.04736845e-01]]\n"
     ]
    }
   ],
   "source": [
    "mat2 = tree_root.eval(64)\n",
    "print(mat2)"
   ]
  },
  {
   "cell_type": "code",
   "execution_count": 11,
   "metadata": {},
   "outputs": [
    {
     "name": "stdout",
     "output_type": "stream",
     "text": [
      "(64, 10)\n",
      "(10,)\n",
      "(10, 64)\n"
     ]
    }
   ],
   "source": [
    "a, b, c = svds(mat, k=10)\n",
    "print(a.shape)\n",
    "print(b.shape)\n",
    "print(c.shape)"
   ]
  },
  {
   "cell_type": "code",
   "execution_count": 12,
   "metadata": {},
   "outputs": [
    {
     "name": "stdout",
     "output_type": "stream",
     "text": [
      "[[-0.0670757   0.19585885  0.64607877 ...  0.21911569  0.24157643\n",
      "   0.01488144]\n",
      " [ 0.27620442  0.03757629  0.53841466 ... -0.06644299  0.52463582\n",
      "   0.26700521]\n",
      " [ 0.2718486   0.05325942  0.06786681 ...  0.23488246  0.00483007\n",
      "   0.40058718]\n",
      " ...\n",
      " [ 0.00832506  0.47591692  0.23636678 ...  0.53123037  0.27934594\n",
      "   0.23434861]\n",
      " [-0.28305653  0.36844512  0.35624061 ...  0.58466759  0.29221785\n",
      "   0.32443286]\n",
      " [ 0.18082051  0.1860103   0.33024235 ...  0.19442313  0.0148998\n",
      "   0.34456728]]\n"
     ]
    }
   ],
   "source": [
    "print(a @ np.diag(b) @ c)"
   ]
  },
  {
   "cell_type": "code",
   "execution_count": 35,
   "metadata": {},
   "outputs": [],
   "source": [
    "matrix = random_matrix(128, 0.99)\n",
    "matrix_tree = compress_matrix(matrix, v[-1], 1)"
   ]
  },
  {
   "cell_type": "code",
   "execution_count": 36,
   "metadata": {},
   "outputs": [],
   "source": [
    "def max_depth(root):\n",
    "    if isinstance(root, Leaf):\n",
    "        return 0\n",
    "    else:\n",
    "        max_value = 1 + max(max_depth(root.lp), max_depth(root.rp), max_depth(root.ld), max_depth(root.rd))\n",
    "        \n",
    "        return max_value"
   ]
  },
  {
   "cell_type": "code",
   "execution_count": 37,
   "metadata": {},
   "outputs": [],
   "source": [
    "def get_print_sizes(size, root):\n",
    "    max_d = max_depth(root)\n",
    "    \n",
    "    print_sizes = []\n",
    "    \n",
    "    current_size = size // (2 ** max_d)\n",
    "    \n",
    "    for _ in range(max_d + 1):\n",
    "        print_sizes.append(current_size)\n",
    "        \n",
    "        current_size = 2 * print_sizes[-1] + 1\n",
    "    \n",
    "    return print_sizes[::-1]"
   ]
  },
  {
   "cell_type": "code",
   "execution_count": 38,
   "metadata": {},
   "outputs": [],
   "source": [
    "print_sizes = get_print_sizes(128, matrix_tree)"
   ]
  },
  {
   "cell_type": "code",
   "execution_count": 39,
   "metadata": {},
   "outputs": [],
   "source": [
    "def printer(root, depth=0):\n",
    "    if isinstance(root, Leaf):\n",
    "        size = print_sizes[depth]\n",
    "        if root.zeros:\n",
    "            array = np.ones((size, size))\n",
    "        else:\n",
    "            array = np.zeros((size, size))\n",
    "            k = len(root.s)\n",
    "            array[k:, k:] = np.ones((size - k, size - k))\n",
    "        \n",
    "        return array\n",
    "    else:\n",
    "        top_left = printer(root.lp, depth + 1)\n",
    "        top_right = printer(root.rp, depth + 1)\n",
    "        bottom_left = printer(root.ld, depth + 1)\n",
    "        bottom_right = printer(root.rd, depth + 1)\n",
    "\n",
    "        \n",
    "        size = print_sizes[depth]\n",
    "        \n",
    "        base = np.ones((size, size)) * 0.5\n",
    "        k = size // 2\n",
    "        \n",
    "        base[:k, :k] = top_left\n",
    "        base[:k, k + 1:] = top_right\n",
    "        base[k + 1:, :k] = bottom_left\n",
    "        base[k + 1:, k + 1:] = bottom_right\n",
    "        \n",
    "        return base"
   ]
  },
  {
   "cell_type": "code",
   "execution_count": 40,
   "metadata": {},
   "outputs": [],
   "source": [
    "image = printer(matrix_tree) * 255"
   ]
  },
  {
   "cell_type": "code",
   "execution_count": 41,
   "metadata": {},
   "outputs": [
    {
     "data": {
      "image/png": "[encoded data removed]",
      "text/plain": [
       "<Figure size 432x288 with 1 Axes>"
      ]
     },
     "metadata": {
      "needs_background": "light"
     },
     "output_type": "display_data"
    }
   ],
   "source": [
    "plt.imshow(image)\n",
    "plt.gray()\n",
    "plt.show()"
   ]
  },
  {
   "cell_type": "code",
   "execution_count": null,
   "metadata": {},
   "outputs": [],
   "source": []
  }
 ],
 "metadata": {
  "kernelspec": {
   "display_name": "Python 3 (ipykernel)",
   "language": "python",
   "name": "python3"
  },
  "language_info": {
   "codemirror_mode": {
    "name": "ipython",
    "version": 3
   },
   "file_extension": ".py",
   "mimetype": "text/x-python",
   "name": "python",
   "nbconvert_exporter": "python",
   "pygments_lexer": "ipython3",
   "version": "3.9.12"
  }
 },
 "nbformat": 4,
 "nbformat_minor": 1
}
