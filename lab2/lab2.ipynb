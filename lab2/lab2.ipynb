{
 "cells": [
  {
   "cell_type": "code",
   "execution_count": 1,
   "metadata": {
    "collapsed": true,
    "ExecuteTime": {
     "end_time": "2023-11-04T19:36:44.520316800Z",
     "start_time": "2023-11-04T19:36:41.712576200Z"
    }
   },
   "outputs": [],
   "source": [
    "import numpy as np\n",
    "import matplotlib.pyplot as plt\n",
    "import pandas as pd\n",
    "from Matrix_inverse import inverse\n",
    "from LU import lu\n",
    "from Determinant import determinant\n",
    "from lab1.Binet import binet\n",
    "from lab1.Strassen import strassen"
   ]
  },
  {
   "cell_type": "code",
   "execution_count": 2,
   "outputs": [],
   "source": [
    "from time import perf_counter\n",
    "\n",
    "def timeit(func):\n",
    "    def wrapper(*args, **kwargs):\n",
    "        t1 = perf_counter()\n",
    "        res = func(*args, **kwargs)\n",
    "        t2 = perf_counter()\n",
    "        return res, round(t2 - t1, 4)\n",
    "    return wrapper\n",
    "\n",
    "def random_matrix(size):\n",
    "    return np.random.uniform(0.00000001, 1, (size, size))"
   ],
   "metadata": {
    "collapsed": false,
    "ExecuteTime": {
     "end_time": "2023-11-04T18:46:48.681819Z",
     "start_time": "2023-11-04T18:46:48.660440400Z"
    }
   }
  },
  {
   "cell_type": "markdown",
   "source": [
    "Quick tests"
   ],
   "metadata": {
    "collapsed": false
   }
  },
  {
   "cell_type": "code",
   "execution_count": 5,
   "outputs": [
    {
     "name": "stdout",
     "output_type": "stream",
     "text": [
      "Test passed\n",
      "Test passed\n",
      "Test passed\n",
      "Test passed\n",
      "Test passed\n",
      "Test passed\n",
      "\n",
      "Test passed\n",
      "Test passed\n",
      "Test passed\n",
      "Test passed\n",
      "Test passed\n",
      "Test passed\n",
      "\n",
      "Test passed\n",
      "Test passed\n",
      "Test passed\n",
      "Test passed\n",
      "Test passed\n",
      "Test passed\n",
      "\n",
      "Test passed\n",
      "Test passed\n",
      "Test passed\n",
      "Test passed\n",
      "Test passed\n",
      "Test passed\n",
      "\n",
      "Test passed\n",
      "Test passed\n",
      "Test passed\n",
      "Test passed\n",
      "Test passed\n",
      "Test passed\n",
      "\n",
      "Test passed\n",
      "Test passed\n",
      "Test passed\n",
      "Test passed\n",
      "Test passed\n",
      "Test passed\n",
      "\n"
     ]
    }
   ],
   "source": [
    "from test_algorithms import test_determinant\n",
    "from test_algorithms import test_inverse\n",
    "from test_algorithms import test_lu\n",
    "from Arithmetic_counter import Counter\n",
    "\n",
    "\n",
    "sizes = np.array([pow(2, i) for i in range(6)])\n",
    "\n",
    "for s in sizes:\n",
    "    rand_matrix = random_matrix(s)\n",
    "    test_determinant(rand_matrix)\n",
    "    test_determinant(rand_matrix, strassen)\n",
    "    test_inverse(rand_matrix)\n",
    "    test_inverse(rand_matrix, strassen)\n",
    "    test_lu(rand_matrix)\n",
    "    test_lu(rand_matrix, strassen)\n",
    "    print()"
   ],
   "metadata": {
    "collapsed": false,
    "ExecuteTime": {
     "end_time": "2023-11-04T18:46:51.547665500Z",
     "start_time": "2023-11-04T18:46:51.400346500Z"
    }
   }
  },
  {
   "cell_type": "code",
   "execution_count": 27,
   "outputs": [],
   "source": [
    "sizes = np.array([pow(2, i) for i in range(9)])\n",
    "\n",
    "timed_det = timeit(determinant)\n",
    "timed_lu = timeit(lu)\n",
    "timed_inv = timeit(inverse)"
   ],
   "metadata": {
    "collapsed": false,
    "ExecuteTime": {
     "end_time": "2023-11-04T18:47:38.773249700Z",
     "start_time": "2023-11-04T18:47:38.763248900Z"
    }
   }
  },
  {
   "cell_type": "code",
   "execution_count": 28,
   "outputs": [
    {
     "name": "stdout",
     "output_type": "stream",
     "text": [
      "1\n",
      "0.0\n",
      "2\n",
      "0.0001\n",
      "4\n",
      "0.0003\n",
      "8\n",
      "0.003\n",
      "16\n",
      "0.0223\n",
      "32\n",
      "0.2032\n",
      "64\n",
      "1.2447\n",
      "128\n",
      "9.9929\n",
      "256\n",
      "80.965\n"
     ]
    }
   ],
   "source": [
    "det_results_binet = []\n",
    "lu_results_binet = []\n",
    "inv_results_binet = []\n",
    "\n",
    "det_results_strassen = []\n",
    "lu_results_strassen = []\n",
    "inv_results_strassen = []\n",
    "\n",
    "for s in sizes:\n",
    "    print(s)\n",
    "    rand_matrix = random_matrix(s)\n",
    "\n",
    "    res, time = timed_inv(rand_matrix)\n",
    "    inv_results_binet.append((time, res[-1]))\n",
    "    print(time)\n",
    "    res, time = timed_inv(rand_matrix, mul_func=strassen)\n",
    "    inv_results_strassen.append((time, res[-1]))\n",
    "\n",
    "    res, time = timed_lu(rand_matrix)\n",
    "    lu_results_binet.append((time, res[-1]))\n",
    "\n",
    "    res, time = timed_lu(rand_matrix, mul_func=strassen)\n",
    "    lu_results_strassen.append((time, res[-1]))\n",
    "\n",
    "    res, time = timed_det(rand_matrix)\n",
    "    det_results_binet.append((time, res[-1]))\n",
    "\n",
    "    res, time = timed_det(rand_matrix, mul_func=strassen)\n",
    "    det_results_strassen.append((time, res[-1]))"
   ],
   "metadata": {
    "collapsed": false,
    "ExecuteTime": {
     "end_time": "2023-11-04T18:49:38.075257600Z",
     "start_time": "2023-11-04T18:47:40.034080300Z"
    }
   }
  },
  {
   "cell_type": "code",
   "execution_count": 29,
   "outputs": [],
   "source": [
    "from scipy.optimize import curve_fit\n",
    "\n",
    "def func(x, a, b):\n",
    "    return a*np.power(x, b)"
   ],
   "metadata": {
    "collapsed": false,
    "ExecuteTime": {
     "end_time": "2023-11-04T18:54:13.484764400Z",
     "start_time": "2023-11-04T18:54:13.463172300Z"
    }
   }
  },
  {
   "cell_type": "code",
   "execution_count": 30,
   "outputs": [
    {
     "name": "stdout",
     "output_type": "stream",
     "text": [
      "[(0.0, Counter(0, 1, 0)), (0.0, Counter(0, 5, 2)), (0.0003, Counter(17, 46, 8)), (0.0023, Counter(254, 404, 24)), (0.0175, Counter(2652, 3352, 64)), (0.2262, Counter(24088, 27152, 160)), (1.0751, Counter(205168, 218080, 384)), (8.3122, Counter(1693536, 1746752, 896)), (73.067, Counter(13762496, 13979008, 2048))]\n"
     ]
    }
   ],
   "source": [
    "print(det_results_binet)"
   ],
   "metadata": {
    "collapsed": false
   }
  },
  {
   "cell_type": "code",
   "execution_count": 45,
   "outputs": [],
   "source": [
    "def plot_axis(y, plot_title, title):\n",
    "    plt.clf()\n",
    "    best_params, _ = curve_fit(func, sizes, y)\n",
    "    print(best_params)\n",
    "    mesh = np.linspace(0, sizes[-1] + 1, 100)\n",
    "    curve = func(mesh, *best_params)\n",
    "    plt.plot(sizes, y, markersize=7, marker=\"o\", linestyle=\"None\", zorder=1, label=\"Pomiary\")\n",
    "    plt.plot(mesh, curve, marker=\"None\", zorder=0, label=f\"Dopasowana krzywa, a={best_params[0]:.2f}, b={best_params[1]:.2f}\")\n",
    "    plt.legend()\n",
    "    plt.title(title)\n",
    "    plt.savefig(f\"saved_plots/{plot_title}\")\n",
    "\n",
    "\n",
    "def print_results(results, title):\n",
    "    times, count = zip(*results)\n",
    "    add, mul, div = zip(*map(Counter.get_params, count))\n",
    "    # fig, ((ax1, ax2), (ax3, ax4)) = plt.subplots(2, 2, figsize=(15, 15))\n",
    "    plot_axis(np.array(times)*1000, f\"{title}1\", \"Pomiary czasu\")\n",
    "    plot_axis(add, f\"{title}2\", \"Ilość dodawań\")\n",
    "    plot_axis(mul, f\"{title}3\", \"Ilość mnożeń\")\n",
    "    plot_axis(div, f\"{title}4\", \"Ilość dzieleń\")\n",
    "\n",
    "    d = {\"Wymiar macierzy\": sizes,\n",
    "         \"Pomiary czasu[ms]\": times,\n",
    "         \"Ilość dodawań\": add,\n",
    "         \"Ilość mnożeń\": mul,\n",
    "         \"Ilość dzieleń\": div}\n",
    "\n",
    "    df = pd.DataFrame(data=d)\n",
    "    df = df.set_index(\"Wymiar macierzy\")\n",
    "\n",
    "    print(df.to_latex(bold_rows=True))\n"
   ],
   "metadata": {
    "collapsed": false,
    "ExecuteTime": {
     "end_time": "2023-11-04T19:58:07.151365600Z",
     "start_time": "2023-11-04T19:58:07.135984300Z"
    }
   }
  },
  {
   "cell_type": "code",
   "execution_count": 49,
   "outputs": [
    {
     "name": "stdout",
     "output_type": "stream",
     "text": [
      "[0.00543283 2.93587428]\n",
      "[2.3395279  2.89600017]\n",
      "[0.79269618 2.9514077 ]\n",
      "[2.52782382 1.20799327]\n",
      "\\begin{tabular}{lrrrr}\n",
      "\\toprule\n",
      "{} &  Pomiary czasu[ms] &  Ilość dodawań &  Ilość mnożeń &  Ilość dzieleń \\\\\n",
      "\\textbf{Wymiar macierzy} &                    &                &               &                \\\\\n",
      "\\midrule\n",
      "\\textbf{1              } &             0.0000 &              0 &             0 &              0 \\\\\n",
      "\\textbf{2              } &             0.0000 &              0 &             3 &              2 \\\\\n",
      "\\textbf{4              } &             0.0003 &             59 &            39 &              8 \\\\\n",
      "\\textbf{8              } &             0.0024 &            704 &           351 &             24 \\\\\n",
      "\\textbf{16             } &             0.0274 &           6330 &          2829 &             64 \\\\\n",
      "\\textbf{32             } &             0.1228 &          51178 &         22035 &            160 \\\\\n",
      "\\textbf{64             } &             0.9818 &         394030 &        170133 &            384 \\\\\n",
      "\\textbf{128            } &             8.3764 &        2963346 &       1313139 &            896 \\\\\n",
      "\\textbf{256            } &            63.8708 &       22049054 &      10157925 &           2048 \\\\\n",
      "\\bottomrule\n",
      "\\end{tabular}\n",
      "\n"
     ]
    },
    {
     "name": "stderr",
     "output_type": "stream",
     "text": [
      "C:\\Users\\michn\\AppData\\Local\\Temp\\ipykernel_8104\\468343469.py:32: FutureWarning: In future versions `DataFrame.to_latex` is expected to utilise the base implementation of `Styler.to_latex` for formatting and rendering. The arguments signature may therefore change. It is recommended instead to use `DataFrame.style.to_latex` which also contains additional functionality.\n",
      "  print(df.to_latex(bold_rows=True))\n"
     ]
    },
    {
     "data": {
      "text/plain": "<Figure size 640x480 with 1 Axes>",
      "image/png": "[encoded data removed]"
     },
     "metadata": {},
     "output_type": "display_data"
    }
   ],
   "source": [
    "print_results(lu_results_strassen, \"lu_Strassen\")"
   ],
   "metadata": {
    "collapsed": false,
    "ExecuteTime": {
     "end_time": "2023-11-04T19:58:12.137058400Z",
     "start_time": "2023-11-04T19:58:07.518021700Z"
    }
   }
  },
  {
   "cell_type": "code",
   "execution_count": null,
   "outputs": [],
   "source": [],
   "metadata": {
    "collapsed": false
   }
  }
 ],
 "metadata": {
  "kernelspec": {
   "display_name": "Python 3",
   "language": "python",
   "name": "python3"
  },
  "language_info": {
   "codemirror_mode": {
    "name": "ipython",
    "version": 2
   },
   "file_extension": ".py",
   "mimetype": "text/x-python",
   "name": "python",
   "nbconvert_exporter": "python",
   "pygments_lexer": "ipython2",
   "version": "2.7.6"
  }
 },
 "nbformat": 4,
 "nbformat_minor": 0
}
