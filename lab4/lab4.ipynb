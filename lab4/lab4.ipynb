{
 "cells": [
  {
   "cell_type": "markdown",
   "id": "9e99de6f",
   "metadata": {},
   "source": [
    "# Kompresja do H-macierzy"
   ]
  },
  {
   "cell_type": "code",
   "execution_count": 1,
   "id": "d43bf854",
   "metadata": {},
   "outputs": [
    {
     "name": "stderr",
     "output_type": "stream",
     "text": [
      "D:\\Program Files\\Anaconda\\lib\\site-packages\\scipy\\__init__.py:146: UserWarning: A NumPy version >=1.16.5 and <1.23.0 is required for this version of SciPy (detected version 1.26.2\n",
      "  warnings.warn(f\"A NumPy version >={np_minversion} and <{np_maxversion}\"\n"
     ]
    }
   ],
   "source": [
    "from scipy.sparse.linalg import svds\n",
    "from scipy.linalg import svd\n",
    "import numpy as np\n",
    "\n",
    "\n",
    "def truncated_svd(A, k):\n",
    "    if not 0 < k < A.shape[0] + 1:\n",
    "        raise ValueError(\"k should between 0 and A.shape[0] + 1\")\n",
    "    if k == A.shape[0]:\n",
    "        U, s, V = svd(A)\n",
    "    else:\n",
    "        U, s, V = svds(A, k)\n",
    "        U, s, V = U[::, ::-1], s[::-1], V[::-1]\n",
    "    return U, s, V\n",
    "\n",
    "\n",
    "def calculate_singular_values(matrix):\n",
    "    return svd(matrix)[1]\n",
    "\n",
    "\n",
    "def power_of_two(x):\n",
    "    while x % 2:\n",
    "        x //= 2\n",
    "    return x != 1\n",
    "\n",
    "\n",
    "def compress(matrix, min_value, max_rank, length):\n",
    "    eps = 1e-10\n",
    "    if length == 1:\n",
    "        return Leaf(U=matrix, V=np.array([1])) if abs(matrix[0, 0]) > eps else Leaf(zeros=True)\n",
    "    else:\n",
    "        if length <= max_rank + 1:\n",
    "            max_rank = length - 1\n",
    "        U, s, V = truncated_svd(matrix, k=max_rank + 1)\n",
    "        if np.abs(s[-1]) < min_value + eps:\n",
    "            s_values = s[np.abs(s) >= min_value + eps]\n",
    "            k = s_values.shape[0]\n",
    "            if k == 0:\n",
    "                return Leaf(zeros=True)\n",
    "            return Leaf(U=U[::, :k] @ np.diag(s_values), V=V[:k])\n",
    "\n",
    "        length //= 2\n",
    "        node = InternalNode(\n",
    "            left_up=compress(matrix[:length, :length], min_value, max_rank, length),\n",
    "            right_up=compress(matrix[:length, length:], min_value, max_rank, length),\n",
    "            left_low=compress(matrix[length:, :length], min_value, max_rank, length),\n",
    "            right_low=compress(matrix[length:, length:], min_value, max_rank,  length)\n",
    "        )\n",
    "        return node\n",
    "\n",
    "\n",
    "def compress_matrix(matrix, min_value, max_rank):\n",
    "    n, m = matrix.shape\n",
    "    if max_rank > n - 1:\n",
    "        raise ValueError(\"Maximum rank should be strictly less than matrix dimension\")\n",
    "    if n != m:\n",
    "        raise ValueError(\"Matrix should be square\")\n",
    "    if not power_of_two(n):\n",
    "        raise ValueError(\"Matrix dimension should be power of two\")\n",
    "\n",
    "    return Tree(n, compress(matrix, abs(min_value), max_rank, n))\n",
    "\n"
   ]
  },
  {
   "cell_type": "code",
   "execution_count": 2,
   "id": "108b558b",
   "metadata": {},
   "outputs": [],
   "source": [
    "from abc import ABC, abstractmethod\n",
    "import numpy as np\n",
    "\n",
    "\n",
    "class Tree:\n",
    "    def __init__(self, length, root=None):\n",
    "        self.length = length\n",
    "        self.root = root\n",
    "\n",
    "    def eval(self):\n",
    "        return self.root.eval(self.length)\n",
    "\n",
    "    def draw(self):\n",
    "        def tree_depth(root):\n",
    "            if isinstance(root, Leaf):\n",
    "                return 0\n",
    "            else:\n",
    "                max_value = 1 + max(tree_depth(root.left_up), tree_depth(root.right_up), tree_depth(root.left_low),\n",
    "                                    tree_depth(root.right_low))\n",
    "                return max_value\n",
    "\n",
    "        def get_draw_sizes(root):\n",
    "            depth = tree_depth(root)\n",
    "\n",
    "            draw_sizes = []\n",
    "\n",
    "            current_size = self.length // (2 ** depth)\n",
    "\n",
    "            for _ in range(depth + 1):\n",
    "                draw_sizes.append(current_size)\n",
    "\n",
    "                current_size = 2 * draw_sizes[-1] + 1\n",
    "\n",
    "            return draw_sizes[::-1]\n",
    "\n",
    "        draw_sizes = get_draw_sizes(self.root)\n",
    "\n",
    "        image_matrix = np.ones((draw_sizes[0], draw_sizes[0]))\n",
    "        self.root.draw(image_matrix, 0, 0, draw_sizes)\n",
    "        return image_matrix*255\n",
    "\n",
    "\n",
    "class Node(ABC):\n",
    "    @abstractmethod\n",
    "    def eval(self, length):\n",
    "        pass\n",
    "\n",
    "    @abstractmethod\n",
    "    def draw(self, image_matrix, left, up, draw_sizes, depth):\n",
    "        pass\n",
    "\n",
    "\n",
    "class InternalNode(Node):\n",
    "    def __init__(self, left_up, right_up, left_low, right_low):\n",
    "        self.left_up = left_up\n",
    "        self.right_up = right_up\n",
    "        self.left_low = left_low\n",
    "        self.right_low = right_low\n",
    "\n",
    "    def eval(self, length):\n",
    "        matrix = np.zeros((length, length))\n",
    "        length //= 2\n",
    "        matrix[:length, :length] = self.left_up.eval(length)\n",
    "        matrix[:length, length:] = self.right_up.eval(length)\n",
    "        matrix[length:, :length] = self.left_low.eval(length)\n",
    "        matrix[length:, length:] = self.right_low.eval(length)\n",
    "        return matrix\n",
    "\n",
    "    def draw(self, im_mat, l, u, sizes, depth=0):\n",
    "        k = sizes[depth] // 2\n",
    "\n",
    "        im_mat[u: u + sizes[depth], l + k] = 0 #Siatka\n",
    "        im_mat[u + k, l: l + sizes[depth]] = 0 #\n",
    "\n",
    "        self.left_up.draw(im_mat, l, u, sizes, depth + 1)\n",
    "        self.right_up.draw(im_mat, l+k+1, u, sizes, depth + 1)\n",
    "        self.left_low.draw(im_mat, l, u+k+1, sizes, depth + 1)\n",
    "        self.right_low.draw(im_mat, l+k+1, u+k+1, sizes, depth + 1)\n",
    "\n",
    "\n",
    "class Leaf(Node):\n",
    "    def __init__(self, U=None, V=None, zeros=False):\n",
    "        self.U = U\n",
    "        self.V = V\n",
    "        self.zeros = zeros\n",
    "\n",
    "    def eval(self, length):\n",
    "        if self.zeros:\n",
    "            return 0\n",
    "        return self.U @ self.V\n",
    "\n",
    "    def draw(self, image_matrix, left, up, sizes, depth=0):\n",
    "        if not self.zeros:\n",
    "            length = sizes[depth]\n",
    "\n",
    "            k = self.V.shape[0]\n",
    "            image_matrix[up:up+length, left:left+k] = 0\n",
    "            image_matrix[up:up+k, left:left+length] = 0\n"
   ]
  },
  {
   "cell_type": "markdown",
   "id": "270dd9b6",
   "metadata": {},
   "source": [
    "# Budowa macierzy o strukturze siatki 3D"
   ]
  },
  {
   "cell_type": "code",
   "execution_count": 3,
   "id": "64fc2342",
   "metadata": {},
   "outputs": [],
   "source": [
    "import random\n",
    "import numpy as np\n",
    "\n",
    "\n",
    "def build_matrix(k):\n",
    "    n = 2 ** k\n",
    "    n_2 = n ** 2\n",
    "\n",
    "    matrix = np.zeros((n ** 3, n ** 3))\n",
    "\n",
    "    for vertex in range(matrix.shape[0]):\n",
    "        level = vertex // n_2\n",
    "        rest = vertex % n_2\n",
    "        row = rest // n\n",
    "        col = rest % n\n",
    "\n",
    "        if level > 0:\n",
    "            top_level_neighbor = vertex - n_2\n",
    "            matrix[vertex][top_level_neighbor] = random.random()\n",
    "\n",
    "        if level < n - 1:\n",
    "            bottom_level_neighbor = vertex + n_2\n",
    "            matrix[vertex][bottom_level_neighbor] = random.random()\n",
    "\n",
    "        if row > 0:\n",
    "            top_neighbor = vertex - n\n",
    "            matrix[vertex][top_neighbor] = random.random()\n",
    "\n",
    "        if row < n - 1:\n",
    "            bottom_neighbor = vertex + n\n",
    "            matrix[vertex][bottom_neighbor] = random.random()\n",
    "\n",
    "        if col > 0:\n",
    "            left_neighbor = vertex - 1\n",
    "            matrix[vertex][left_neighbor] = random.random()\n",
    "\n",
    "        if col < n - 1:\n",
    "            right_neighbor = vertex + 1\n",
    "            matrix[vertex][right_neighbor] = random.random()\n",
    "\n",
    "    return matrix"
   ]
  },
  {
   "cell_type": "markdown",
   "id": "1e15886b",
   "metadata": {},
   "source": [
    "# Kompresja macierzy do H-macierzy"
   ]
  },
  {
   "cell_type": "code",
   "execution_count": 118,
   "id": "b22e6479",
   "metadata": {},
   "outputs": [],
   "source": [
    "sparse_matrix = build_matrix(3)\n",
    "root = compress_matrix(sparse_matrix, 0, 10)"
   ]
  },
  {
   "cell_type": "code",
   "execution_count": 119,
   "id": "4c786756",
   "metadata": {},
   "outputs": [
    {
     "data": {
      "image/png": "[encoded data removed]",
      "text/plain": [
       "<Figure size 432x288 with 1 Axes>"
      ]
     },
     "metadata": {
      "needs_background": "light"
     },
     "output_type": "display_data"
    }
   ],
   "source": [
    "import matplotlib.pyplot as plt\n",
    "\n",
    "image = root.draw()\n",
    "plt.imshow(image, cmap='gray')\n",
    "plt.show()"
   ]
  },
  {
   "cell_type": "markdown",
   "id": "06febaaf",
   "metadata": {},
   "source": [
    "# Uruchomienie algorytmu kompresji macierzy rzadkiej"
   ]
  },
  {
   "cell_type": "code",
   "execution_count": 120,
   "id": "36acb706",
   "metadata": {},
   "outputs": [
    {
     "name": "stdout",
     "output_type": "stream",
     "text": [
      "Rozmiar oryginalny: 2097152 B\n",
      "Rozmiar po kompresji: 34308 B\n"
     ]
    }
   ],
   "source": [
    "from scipy.sparse import csr_matrix\n",
    "\n",
    "compressed_matrix = csr_matrix(sparse_matrix)\n",
    "\n",
    "print('Rozmiar oryginalny:', sparse_matrix.nbytes, 'B')\n",
    "print('Rozmiar po kompresji:', compressed_matrix.data.nbytes + compressed_matrix.indptr.nbytes + compressed_matrix.indices.nbytes, 'B')"
   ]
  },
  {
   "cell_type": "markdown",
   "id": "0d995328",
   "metadata": {},
   "source": [
    "# Algorytm minimum degree"
   ]
  },
  {
   "cell_type": "code",
   "execution_count": 121,
   "id": "6066a748",
   "metadata": {},
   "outputs": [],
   "source": [
    "def get_adjacency(matrix):\n",
    "    m, n = matrix.shape\n",
    "\n",
    "    adjacency = {i : set() for i in range(m)}\n",
    "\n",
    "    for i in range(m):\n",
    "        for j in range(n):\n",
    "            if i != j and matrix[i][j] > 0:\n",
    "                adjacency[i].add(j)\n",
    "\n",
    "    return adjacency"
   ]
  },
  {
   "cell_type": "code",
   "execution_count": 122,
   "id": "64e81cc0",
   "metadata": {},
   "outputs": [],
   "source": [
    "def minimum_degree(matrix):\n",
    "    m, n = matrix.shape\n",
    "    result = []\n",
    "    adjacency = get_adjacency(matrix)\n",
    "    \n",
    "    for i in range(m):\n",
    "        best_vertex = -1\n",
    "        best_value = n + 1\n",
    "        \n",
    "        for vertex, neighbors in adjacency.items():\n",
    "            if len(neighbors) < best_value:\n",
    "                best_value = len(neighbors)\n",
    "                best_vertex = vertex\n",
    "        \n",
    "        for vertex in adjacency:\n",
    "            adjacency[vertex].discard(best_vertex)\n",
    "        \n",
    "        for neighbor in adjacency[best_vertex]:\n",
    "            adjacency[neighbor] |= adjacency[best_vertex].difference({neighbor})\n",
    "        \n",
    "        adjacency.pop(best_vertex)\n",
    "        result.append(best_vertex)\n",
    "    \n",
    "    return result"
   ]
  },
  {
   "cell_type": "markdown",
   "id": "72c2af66",
   "metadata": {},
   "source": [
    "# Algorytm Cuthill McKee"
   ]
  },
  {
   "cell_type": "code",
   "execution_count": 123,
   "id": "2e6da71c",
   "metadata": {},
   "outputs": [],
   "source": [
    "from collections import deque\n",
    "\n",
    "def cuthill_mckee(matrix):\n",
    "    def bfs():\n",
    "        while len(q) > 0:\n",
    "            vertex = q.popleft()\n",
    "            \n",
    "            if visited[vertex]:\n",
    "                continue\n",
    "            \n",
    "            visited[vertex] = True\n",
    "            result.append(vertex)\n",
    "            \n",
    "            neighbors = sorted(list(adjacency[vertex]), key=lambda x: len(adjacency[x]))\n",
    "            \n",
    "            for neighbor in neighbors:\n",
    "                if not visited[neighbor]:\n",
    "                    q.append(neighbor)\n",
    "    \n",
    "    \n",
    "    m, n = matrix.shape\n",
    "    \n",
    "    adjacency = get_adjacency(matrix)\n",
    "    degrees = [(vertex, len(neighbors)) for vertex, neighbors in adjacency.items()]\n",
    "    sorted_vertices = sorted(degrees, key=lambda x: x[1])\n",
    "    \n",
    "    for i in range(len(sorted_vertices)):\n",
    "        sorted_vertices[i] = sorted_vertices[i][0]\n",
    "    \n",
    "    result = []\n",
    "    \n",
    "    q = deque()\n",
    "    visited = [False for _ in range(m)]\n",
    "    \n",
    "    for vertex in sorted_vertices:\n",
    "        if not visited[vertex]:\n",
    "            q.append(vertex)\n",
    "            bfs()\n",
    "    \n",
    "    return result"
   ]
  },
  {
   "cell_type": "markdown",
   "id": "3314a74c",
   "metadata": {},
   "source": [
    "# Algorytm Reversed Cuthill McKee"
   ]
  },
  {
   "cell_type": "code",
   "execution_count": 124,
   "id": "ebd3f0d8",
   "metadata": {},
   "outputs": [],
   "source": [
    "def reversed_cuthill_mckee(matrix):\n",
    "    return cuthill_mckee(matrix)[::-1]"
   ]
  },
  {
   "cell_type": "markdown",
   "id": "ab58eed6",
   "metadata": {},
   "source": [
    "# Permutacja"
   ]
  },
  {
   "cell_type": "code",
   "execution_count": 125,
   "id": "d0111b83",
   "metadata": {},
   "outputs": [],
   "source": [
    "def apply_permutation(matrix, permutation):\n",
    "    result = matrix.copy()\n",
    "    \n",
    "    for i in range(len(permutation)):\n",
    "        if i != permutation[i]:\n",
    "            result[i, :] = matrix[permutation[i], :]\n",
    "            #result[:, i] = matrix[:, permutation[i]]\n",
    "    \n",
    "    matrix = result.copy()\n",
    "    \n",
    "    for i in range(len(permutation)):\n",
    "        if i != permutation[i]:\n",
    "            result[:, i] = matrix[:, permutation[i]]\n",
    "    \n",
    "    return result"
   ]
  },
  {
   "cell_type": "code",
   "execution_count": 139,
   "id": "d54deb31",
   "metadata": {},
   "outputs": [],
   "source": [
    "permutation_minimum_degree = minimum_degree(sparse_matrix)\n",
    "permutation_cuthill_mckee = cuthill_mckee(sparse_matrix)\n",
    "permutation_reversed_cuthill_mckee = reversed_cuthill_mckee(sparse_matrix)"
   ]
  },
  {
   "cell_type": "code",
   "execution_count": 140,
   "id": "249235c7",
   "metadata": {},
   "outputs": [],
   "source": [
    "matrix_minimum_degree = apply_permutation(sparse_matrix, permutation_minimum_degree)\n",
    "matrix_cuthill_mckee = apply_permutation(sparse_matrix, permutation_cuthill_mckee)\n",
    "matrix_reversed_cuthill_mckee = apply_permutation(sparse_matrix, permutation_reversed_cuthill_mckee)"
   ]
  },
  {
   "cell_type": "markdown",
   "id": "12395405",
   "metadata": {},
   "source": [
    "# Wzorce rzadkości"
   ]
  },
  {
   "cell_type": "markdown",
   "id": "7ef72841",
   "metadata": {},
   "source": [
    "### Przed permutacją"
   ]
  },
  {
   "cell_type": "code",
   "execution_count": 141,
   "id": "7d1beac1",
   "metadata": {},
   "outputs": [
    {
     "data": {
      "text/plain": [
       "<matplotlib.image.AxesImage at 0x22896b0e6d0>"
      ]
     },
     "execution_count": 141,
     "metadata": {},
     "output_type": "execute_result"
    },
    {
     "data": {
      "image/png": "[encoded data removed]",
      "text/plain": [
       "<Figure size 432x288 with 1 Axes>"
      ]
     },
     "metadata": {
      "needs_background": "light"
     },
     "output_type": "display_data"
    }
   ],
   "source": [
    "plt.spy(sparse_matrix)"
   ]
  },
  {
   "cell_type": "markdown",
   "id": "18b37f2f",
   "metadata": {},
   "source": [
    "### Permutacja minimum degree"
   ]
  },
  {
   "cell_type": "code",
   "execution_count": 142,
   "id": "c022abe6",
   "metadata": {},
   "outputs": [
    {
     "data": {
      "text/plain": [
       "<matplotlib.image.AxesImage at 0x22894dccd90>"
      ]
     },
     "execution_count": 142,
     "metadata": {},
     "output_type": "execute_result"
    },
    {
     "data": {
      "image/png": "[encoded data removed]",
      "text/plain": [
       "<Figure size 432x288 with 1 Axes>"
      ]
     },
     "metadata": {
      "needs_background": "light"
     },
     "output_type": "display_data"
    }
   ],
   "source": [
    "plt.spy(matrix_minimum_degree)"
   ]
  },
  {
   "cell_type": "markdown",
   "id": "3644e574",
   "metadata": {},
   "source": [
    "### Permutacja Cuthill McKee"
   ]
  },
  {
   "cell_type": "code",
   "execution_count": 143,
   "id": "f438492c",
   "metadata": {},
   "outputs": [
    {
     "data": {
      "text/plain": [
       "<matplotlib.image.AxesImage at 0x22896e641c0>"
      ]
     },
     "execution_count": 143,
     "metadata": {},
     "output_type": "execute_result"
    },
    {
     "data": {
      "image/png": "[encoded data removed]",
      "text/plain": [
       "<Figure size 432x288 with 1 Axes>"
      ]
     },
     "metadata": {
      "needs_background": "light"
     },
     "output_type": "display_data"
    }
   ],
   "source": [
    "plt.spy(matrix_cuthill_mckee)"
   ]
  },
  {
   "cell_type": "markdown",
   "id": "6621a729",
   "metadata": {},
   "source": [
    "### Permutacja Reversed Cuthill McKee"
   ]
  },
  {
   "cell_type": "code",
   "execution_count": 144,
   "id": "77c1356f",
   "metadata": {},
   "outputs": [
    {
     "data": {
      "text/plain": [
       "<matplotlib.image.AxesImage at 0x22894d96c70>"
      ]
     },
     "execution_count": 144,
     "metadata": {},
     "output_type": "execute_result"
    },
    {
     "data": {
      "image/png": "[encoded data removed]",
      "text/plain": [
       "<Figure size 432x288 with 1 Axes>"
      ]
     },
     "metadata": {
      "needs_background": "light"
     },
     "output_type": "display_data"
    }
   ],
   "source": [
    "plt.spy(matrix_reversed_cuthill_mckee)"
   ]
  },
  {
   "cell_type": "markdown",
   "id": "9ecc157d",
   "metadata": {},
   "source": [
    "# Macierze po kompresji"
   ]
  },
  {
   "cell_type": "markdown",
   "id": "774bf797",
   "metadata": {},
   "source": [
    "### Macierz minimum degree"
   ]
  },
  {
   "cell_type": "code",
   "execution_count": 145,
   "id": "a24e28f6",
   "metadata": {},
   "outputs": [
    {
     "data": {
      "image/png": "[encoded data removed]",
      "text/plain": [
       "<Figure size 432x288 with 1 Axes>"
      ]
     },
     "metadata": {
      "needs_background": "light"
     },
     "output_type": "display_data"
    }
   ],
   "source": [
    "tree_minimum_degree = compress_matrix(matrix_minimum_degree, 0, 10)\n",
    "plt.imshow(tree_minimum_degree.draw(), cmap='gray')\n",
    "plt.show()"
   ]
  },
  {
   "cell_type": "markdown",
   "id": "ac4e44fc",
   "metadata": {},
   "source": [
    "### Macierz Cuthill McKee"
   ]
  },
  {
   "cell_type": "code",
   "execution_count": 146,
   "id": "e0b19a36",
   "metadata": {},
   "outputs": [
    {
     "data": {
      "image/png": "[encoded data removed]",
      "text/plain": [
       "<Figure size 432x288 with 1 Axes>"
      ]
     },
     "metadata": {
      "needs_background": "light"
     },
     "output_type": "display_data"
    }
   ],
   "source": [
    "tree_cuthill_mckee = compress_matrix(matrix_cuthill_mckee, 0, 10)\n",
    "plt.imshow(tree_cuthill_mckee.draw(), cmap='gray')\n",
    "plt.show()"
   ]
  },
  {
   "cell_type": "markdown",
   "id": "2a43bb7f",
   "metadata": {},
   "source": [
    "### Macierz Reversed Cuthill McKee"
   ]
  },
  {
   "cell_type": "code",
   "execution_count": 147,
   "id": "87f13150",
   "metadata": {},
   "outputs": [
    {
     "data": {
      "image/png": "[encoded data removed]",
      "text/plain": [
       "<Figure size 432x288 with 1 Axes>"
      ]
     },
     "metadata": {
      "needs_background": "light"
     },
     "output_type": "display_data"
    }
   ],
   "source": [
    "tree_reversed_cuthill_mckee = compress_matrix(matrix_reversed_cuthill_mckee, 0, 10)\n",
    "plt.imshow(tree_reversed_cuthill_mckee.draw(), cmap='gray')\n",
    "plt.show()"
   ]
  },
  {
   "cell_type": "markdown",
   "id": "4ac6a4e6",
   "metadata": {},
   "source": [
    "# Porównanie rozmiarów"
   ]
  },
  {
   "cell_type": "code",
   "execution_count": 148,
   "id": "83f0b437",
   "metadata": {},
   "outputs": [],
   "source": [
    "from sys import getsizeof\n",
    "\n",
    "def get_size(root):\n",
    "    if isinstance(root, Leaf):\n",
    "        data = 0\n",
    "        \n",
    "        if root.U is not None:\n",
    "            data += root.U.nbytes\n",
    "        \n",
    "        if root.V is not None:\n",
    "            data += root.V.nbytes\n",
    "        \n",
    "        return getsizeof(root.zeros) + data\n",
    "    else:\n",
    "        variables = getsizeof(root.left_up) + getsizeof(root.right_up) + getsizeof(root.left_low) + getsizeof(root.right_low)\n",
    "        lower_level = get_size(root.left_up) + get_size(root.right_up) + get_size(root.left_low) + get_size(root.right_low)\n",
    "        \n",
    "        return variables + lower_level"
   ]
  },
  {
   "cell_type": "code",
   "execution_count": 149,
   "id": "63b6c808",
   "metadata": {},
   "outputs": [
    {
     "name": "stdout",
     "output_type": "stream",
     "text": [
      "Rozmiar macierzy: 2097152 B\n",
      "Rozmiar po kompresji: 671440 B\n",
      "Rozmiar po permutacji Minimum Degree i kompresji: 657544 B\n",
      "Rozmiar po permutacji Cuthill McKee i kompresji: 344464 B\n",
      "Rozmiar po permutacji Reversed Cuthill McKee i kompresji: 344464 B\n"
     ]
    }
   ],
   "source": [
    "print('Rozmiar macierzy:', sparse_matrix.nbytes, \"B\")\n",
    "print('Rozmiar po kompresji:', get_size(root.root), 'B')\n",
    "print('Rozmiar po permutacji Minimum Degree i kompresji:', get_size(tree_minimum_degree.root), 'B')\n",
    "print('Rozmiar po permutacji Cuthill McKee i kompresji:', get_size(tree_cuthill_mckee.root), 'B')\n",
    "print('Rozmiar po permutacji Reversed Cuthill McKee i kompresji:', get_size(tree_reversed_cuthill_mckee.root), 'B')"
   ]
  },
  {
   "cell_type": "code",
   "execution_count": null,
   "id": "f18d7b04",
   "metadata": {},
   "outputs": [],
   "source": []
  }
 ],
 "metadata": {
  "kernelspec": {
   "display_name": "Python 3 (ipykernel)",
   "language": "python",
   "name": "python3"
  },
  "language_info": {
   "codemirror_mode": {
    "name": "ipython",
    "version": 3
   },
   "file_extension": ".py",
   "mimetype": "text/x-python",
   "name": "python",
   "nbconvert_exporter": "python",
   "pygments_lexer": "ipython3",
   "version": "3.9.12"
  }
 },
 "nbformat": 4,
 "nbformat_minor": 5
}
